{
    "cells": [
        {
            "metadata": {
                "collapsed": true
            },
            "cell_type": "markdown",
            "source": "# Capstone Project - The Battle of the Neighborhoods in Dortmund"
        },
        {
            "metadata": {},
            "cell_type": "markdown",
            "source": "## 1. Introduction/Business Understanding"
        },
        {
            "metadata": {},
            "cell_type": "markdown",
            "source": "### 1.1 Description of the problem"
        },
        {
            "metadata": {},
            "cell_type": "markdown",
            "source": "Our business problem we are facing is that around every two to three weeks there are football home games of the First Bundesliga Club Borussia Dortmund. How can we provide support to visitors to list and visualize Dortmund boroughs that fit their needs for food venues."
        },
        {
            "metadata": {},
            "cell_type": "markdown",
            "source": "### 1.2 Discussion of the background"
        },
        {
            "metadata": {},
            "cell_type": "markdown",
            "source": "Dortmund is a city with around 585.000 inhabitants and twelve boroughs. Dortmund is well known for its football First Bundesliga Club Borussia Dortmund. Many visitors come to Dortmund to watch their games.\n\nI think it is hard vor visitors to choose the right place to stay, especially if there are looking for lots and good food choices. As there are many recommendations on the web it's hard to filter out which is the right choice for the visitor.\n\nIn this capstone project I am adressing this problem with the help of Foursquare location data and machine learning to help the visitors to make a decision and find the appropriate neighborhood. I will use the Foursquare location data and clustering methods for grouping the boroughs to different groups by their restaurant venues information."
        },
        {
            "metadata": {},
            "cell_type": "markdown",
            "source": "## 2. Data"
        },
        {
            "metadata": {},
            "cell_type": "markdown",
            "source": "We will use the following data:\n\n**List of the twelve boroughs of Dortmund with their latitude and longitude**\n\n* Datasource: https://de.wikipedia.org/wiki/Liste_der_Dortmunder_Stadtteile\n\n* Description: We will use the first list and drop the details so that we have only the twelve boroughs and enrich the table with the coordinates using geocoder class of Geopy client.\n\n**Restaurants in each borough**\n\n* Data source: Foursquare APIs\n\n* Description : By this we will get all the venues in each borough. We will filter these venues to get only restaurants."
        },
        {
            "metadata": {},
            "cell_type": "code",
            "source": "",
            "execution_count": null,
            "outputs": []
        }
    ],
    "metadata": {
        "kernelspec": {
            "name": "python3",
            "display_name": "Python 3.7",
            "language": "python"
        },
        "language_info": {
            "name": "python",
            "version": "3.7.9",
            "mimetype": "text/x-python",
            "codemirror_mode": {
                "name": "ipython",
                "version": 3
            },
            "pygments_lexer": "ipython3",
            "nbconvert_exporter": "python",
            "file_extension": ".py"
        }
    },
    "nbformat": 4,
    "nbformat_minor": 1
}